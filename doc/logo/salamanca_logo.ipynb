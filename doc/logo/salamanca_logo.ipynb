{
 "cells": [
  {
   "cell_type": "code",
   "execution_count": 1,
   "id": "seeing-concert",
   "metadata": {},
   "outputs": [],
   "source": [
    "import matplotlib\n",
    "import matplotlib.pyplot as plt\n",
    "import numpy as np\n",
    "from salamanca.ineq import LogNormal"
   ]
  },
  {
   "cell_type": "code",
   "execution_count": 2,
   "id": "accurate-birth",
   "metadata": {},
   "outputs": [],
   "source": [
    "colors = plt.get_cmap('tab20')( (4./3*np.arange(20*3/4)).astype(int) )"
   ]
  },
  {
   "cell_type": "code",
   "execution_count": 3,
   "id": "functional-railway",
   "metadata": {},
   "outputs": [
    {
     "data": {
      "text/plain": [
       "'#c5b0d5'"
      ]
     },
     "execution_count": 3,
     "metadata": {},
     "output_type": "execute_result"
    }
   ],
   "source": [
    "gold = colors[12]\n",
    "green = colors[4]\n",
    "purp = colors[7]\n",
    "\n",
    "matplotlib.colors.to_hex(purp)"
   ]
  },
  {
   "cell_type": "code",
   "execution_count": 4,
   "id": "possible-approval",
   "metadata": {},
   "outputs": [],
   "source": [
    "gini = 0.6\n",
    "split = 10\n",
    "\n",
    "ln = LogNormal()\n",
    "xs = np.linspace(0, 2, 100)\n",
    "ys = np.array(list(ln.pdf(x, gini=gini) for x in xs))\n",
    "yleft = np.array(list(ln.pdf(x, gini=gini) for x in xs[:split]))\n",
    "yright = np.array(list(ln.pdf(x, gini=gini) for x in xs[split-1:]))"
   ]
  },
  {
   "cell_type": "code",
   "execution_count": 5,
   "id": "popular-edinburgh",
   "metadata": {},
   "outputs": [
    {
     "data": {
      "image/png": "[encoded data removed]",
      "text/plain": [
       "<Figure size 432x288 with 1 Axes>"
      ]
     },
     "metadata": {
      "needs_background": "light"
     },
     "output_type": "display_data"
    }
   ],
   "source": [
    "fig, ax = plt.subplots()\n",
    "plt.axis('off')\n",
    "\n",
    "plt.plot(xs, ys, color=gold)\n",
    "plt.fill_between(xs[:split], yleft, color=green)\n",
    "plt.fill_between(xs[split-1:], yright, color=purp)\n",
    "\n",
    "fig.savefig('./logo_base.pdf')"
   ]
  }
 ],
 "metadata": {
  "kernelspec": {
   "display_name": "Python 3",
   "language": "python",
   "name": "python3"
  },
  "language_info": {
   "codemirror_mode": {
    "name": "ipython",
    "version": 3
   },
   "file_extension": ".py",
   "mimetype": "text/x-python",
   "name": "python",
   "nbconvert_exporter": "python",
   "pygments_lexer": "ipython3",
   "version": "3.8.8"
  }
 },
 "nbformat": 4,
 "nbformat_minor": 5
}
